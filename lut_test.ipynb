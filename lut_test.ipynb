{
 "cells": [
  {
   "cell_type": "code",
   "execution_count": null,
   "metadata": {},
   "outputs": [],
   "source": [
    "import numpy as np\n",
    "from importlib import reload\n",
    "import pickle\n",
    "from copy import copy, deepcopy\n",
    "import os\n",
    "\n",
    "os.chdir('/Users/james/Dropbox/Research/Postdoc Yasser/Safety Barrier NN Filter/EnergyShield/deltaTCalculations')\n",
    "\n",
    "from matplotlib import pyplot as plt\n",
    "%matplotlib widget\n",
    "from matplotlib import cm\n",
    "fig = plt.figure(1)\n",
    "fig.clf()\n",
    "t = np.linspace(0,1,1000)\n",
    "y = np.cos(2*np.pi*10*t)\n",
    "plt.plot(t,y)\n",
    "plt.grid()\n",
    "# display(fig.canvas)\n",
    "plt.show()"
   ]
  },
  {
   "cell_type": "code",
   "execution_count": 10,
   "metadata": {},
   "outputs": [],
   "source": [
    "import energyShieldDeltaT"
   ]
  },
  {
   "cell_type": "code",
   "execution_count": 57,
   "metadata": {},
   "outputs": [
    {
     "data": {
      "text/plain": [
       "<module 'energyShieldDeltaT' from '/Users/james/Dropbox/Research/Postdoc Yasser/Safety Barrier NN Filter/EnergyShield/deltaTCalculations/energyShieldDeltaT.py'>"
      ]
     },
     "execution_count": 57,
     "metadata": {},
     "output_type": "execute_result"
    }
   ],
   "source": [
    "reload(energyShieldDeltaT)"
   ]
  },
  {
   "cell_type": "code",
   "execution_count": 58,
   "metadata": {},
   "outputs": [],
   "source": [
    "shield1 = energyShieldDeltaT.energyShieldDeltaT('./shieldNN_sigma=0.28_rbar=4_lr=1.6_df=1.1854_vmax=12/energyShieldPyLUT_sigma=0.28_rbar=4_lr=1.6_df=1.1854_vmax=12.p',lutRange=(0,5))\n",
    "shield2 = energyShieldDeltaT.energyShieldDeltaT('./shieldNN_sigma=0.48_rbar=4_lr=2_df=0.785398_vmax=20/energyShieldPyLUT_sigma=0.48_rbar=4_lr=2_df=0.785398_vmax=20.p')"
   ]
  },
  {
   "cell_type": "code",
   "execution_count": 26,
   "metadata": {},
   "outputs": [
    {
     "data": {
      "text/plain": [
       "6.295241356622828"
      ]
     },
     "execution_count": 26,
     "metadata": {},
     "output_type": "execute_result"
    }
   ],
   "source": [
    "shield2.rmin(2.656)"
   ]
  },
  {
   "cell_type": "code",
   "execution_count": 59,
   "metadata": {},
   "outputs": [
    {
     "name": "stdout",
     "output_type": "stream",
     "text": [
      "DEBUG: offset comparisons [13.44444444 12.44444444 10.44444444  8.44444444  6.44444444]\n",
      "DEBUG: validOffsets = [0 1 2 3 4]\n",
      "DEBUG: using offsetIdx = 4 with offset = 8; rmin(3.141592653589793) = 5.555555555555555\n",
      "DEBUG: xi=3.141592653589793; xi interval = [3.1375704139024316, 3.141592653589793]\n",
      "DEBUG: beta=0; beta interval = [-0.004245800606364036, 0.00022346318980848157]\n",
      "DEBUG: offset comparisons [11.30769231 10.30769231  8.30769231  6.30769231  4.30769231 -3.69230769]\n",
      "DEBUG: validOffsets = [0 1 2 3 4]\n",
      "DEBUG: using offsetIdx = 4 with offset = 8; rmin(3.141592653589793) = 7.692307692307692\n",
      "DEBUG: xi=3.141592653589793; xi interval = [3.12797982038941, 3.141592653589793]\n",
      "DEBUG: beta=0; beta interval = [-0.0016295243648984936, 0.0002875631232173159]\n"
     ]
    },
    {
     "data": {
      "text/plain": [
       "[1.037037037037037, 0.013453475730808575]"
      ]
     },
     "execution_count": 59,
     "metadata": {},
     "output_type": "execute_result"
    }
   ],
   "source": [
    "r = 20\n",
    "xi = np.pi\n",
    "beta = 0\n",
    "[ \\\n",
    "    shield1.deltaT(r=r, xi=xi, beta=beta, debug=True), \\\n",
    "    shield2.deltaT(r=r, xi=xi, beta=beta, debug=True) \\\n",
    "]"
   ]
  },
  {
   "cell_type": "code",
   "execution_count": 60,
   "metadata": {},
   "outputs": [
    {
     "data": {
      "text/plain": [
       "15.692307692307692"
      ]
     },
     "execution_count": 60,
     "metadata": {},
     "output_type": "execute_result"
    }
   ],
   "source": [
    "shield2.rmin(np.pi) + 8"
   ]
  },
  {
   "cell_type": "code",
   "execution_count": null,
   "metadata": {},
   "outputs": [],
   "source": []
  }
 ],
 "metadata": {
  "kernelspec": {
   "display_name": "Python 3",
   "language": "python",
   "name": "python3"
  },
  "language_info": {
   "codemirror_mode": {
    "name": "ipython",
    "version": 3
   },
   "file_extension": ".py",
   "mimetype": "text/x-python",
   "name": "python",
   "nbconvert_exporter": "python",
   "pygments_lexer": "ipython3",
   "version": "3.10.8"
  },
  "orig_nbformat": 4,
  "vscode": {
   "interpreter": {
    "hash": "610c699f0cd8c4f129acd9140687fff6866bed0eb8e82f249fc8848b827b628c"
   }
  }
 },
 "nbformat": 4,
 "nbformat_minor": 2
}
